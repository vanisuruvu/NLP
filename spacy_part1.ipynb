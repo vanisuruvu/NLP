{
 "cells": [
  {
   "cell_type": "code",
   "execution_count": 1,
   "metadata": {},
   "outputs": [
    {
     "name": "stdout",
     "output_type": "stream",
     "text": [
      "Collecting spacy\n",
      "  Downloading spacy-3.3.0-cp38-cp38-win_amd64.whl (12.0 MB)\n",
      "Collecting srsly<3.0.0,>=2.4.3\n",
      "  Downloading srsly-2.4.3-cp38-cp38-win_amd64.whl (448 kB)\n",
      "Collecting typer<0.5.0,>=0.3.0\n",
      "  Downloading typer-0.4.1-py3-none-any.whl (27 kB)\n",
      "Collecting preshed<3.1.0,>=3.0.2\n",
      "  Downloading preshed-3.0.6-cp38-cp38-win_amd64.whl (113 kB)\n",
      "Collecting thinc<8.1.0,>=8.0.14\n",
      "  Downloading thinc-8.0.15-cp38-cp38-win_amd64.whl (1.0 MB)\n",
      "Collecting pydantic!=1.8,!=1.8.1,<1.9.0,>=1.7.4\n",
      "  Downloading pydantic-1.8.2-cp38-cp38-win_amd64.whl (2.0 MB)\n",
      "Collecting murmurhash<1.1.0,>=0.28.0\n",
      "  Downloading murmurhash-1.0.7-cp38-cp38-win_amd64.whl (18 kB)\n",
      "Collecting wasabi<1.1.0,>=0.9.1\n",
      "  Downloading wasabi-0.9.1-py3-none-any.whl (26 kB)\n",
      "Collecting pathy>=0.3.5\n",
      "  Downloading pathy-0.6.1-py3-none-any.whl (42 kB)\n",
      "Requirement already satisfied: packaging>=20.0 in c:\\programdata\\anaconda3\\lib\\site-packages (from spacy) (20.4)\n",
      "Collecting langcodes<4.0.0,>=3.2.0\n",
      "  Downloading langcodes-3.3.0-py3-none-any.whl (181 kB)\n",
      "Collecting cymem<2.1.0,>=2.0.2\n",
      "  Downloading cymem-2.0.6-cp38-cp38-win_amd64.whl (36 kB)\n",
      "Collecting catalogue<2.1.0,>=2.0.6\n",
      "  Downloading catalogue-2.0.7-py3-none-any.whl (17 kB)\n",
      "Requirement already satisfied: numpy>=1.15.0 in c:\\programdata\\anaconda3\\lib\\site-packages (from spacy) (1.19.2)\n",
      "Collecting spacy-legacy<3.1.0,>=3.0.9\n",
      "  Downloading spacy_legacy-3.0.9-py2.py3-none-any.whl (20 kB)\n",
      "Requirement already satisfied: tqdm<5.0.0,>=4.38.0 in c:\\programdata\\anaconda3\\lib\\site-packages (from spacy) (4.50.2)\n",
      "Requirement already satisfied: setuptools in c:\\programdata\\anaconda3\\lib\\site-packages (from spacy) (50.3.1.post20201107)\n",
      "Collecting blis<0.8.0,>=0.4.0\n",
      "  Downloading blis-0.7.7-cp38-cp38-win_amd64.whl (6.6 MB)\n",
      "Requirement already satisfied: jinja2 in c:\\programdata\\anaconda3\\lib\\site-packages (from spacy) (2.11.2)\n",
      "Collecting spacy-loggers<2.0.0,>=1.0.0\n",
      "  Downloading spacy_loggers-1.0.2-py3-none-any.whl (7.2 kB)\n",
      "Requirement already satisfied: requests<3.0.0,>=2.13.0 in c:\\programdata\\anaconda3\\lib\\site-packages (from spacy) (2.24.0)\n",
      "Requirement already satisfied: click<9.0.0,>=7.1.1 in c:\\programdata\\anaconda3\\lib\\site-packages (from typer<0.5.0,>=0.3.0->spacy) (7.1.2)\n",
      "Requirement already satisfied: typing-extensions>=3.7.4.3 in c:\\programdata\\anaconda3\\lib\\site-packages (from pydantic!=1.8,!=1.8.1,<1.9.0,>=1.7.4->spacy) (3.7.4.3)\n",
      "Collecting smart-open<6.0.0,>=5.0.0\n",
      "  Downloading smart_open-5.2.1-py3-none-any.whl (58 kB)\n",
      "Requirement already satisfied: pyparsing>=2.0.2 in c:\\programdata\\anaconda3\\lib\\site-packages (from packaging>=20.0->spacy) (2.4.7)\n",
      "Requirement already satisfied: six in c:\\programdata\\anaconda3\\lib\\site-packages (from packaging>=20.0->spacy) (1.15.0)\n",
      "Requirement already satisfied: MarkupSafe>=0.23 in c:\\programdata\\anaconda3\\lib\\site-packages (from jinja2->spacy) (1.1.1)\n",
      "Requirement already satisfied: urllib3!=1.25.0,!=1.25.1,<1.26,>=1.21.1 in c:\\programdata\\anaconda3\\lib\\site-packages (from requests<3.0.0,>=2.13.0->spacy) (1.25.11)\n",
      "Requirement already satisfied: idna<3,>=2.5 in c:\\programdata\\anaconda3\\lib\\site-packages (from requests<3.0.0,>=2.13.0->spacy) (2.10)\n",
      "Requirement already satisfied: certifi>=2017.4.17 in c:\\programdata\\anaconda3\\lib\\site-packages (from requests<3.0.0,>=2.13.0->spacy) (2020.6.20)\n",
      "Requirement already satisfied: chardet<4,>=3.0.2 in c:\\programdata\\anaconda3\\lib\\site-packages (from requests<3.0.0,>=2.13.0->spacy) (3.0.4)\n",
      "Installing collected packages: catalogue, srsly, typer, murmurhash, cymem, preshed, wasabi, pydantic, blis, thinc, smart-open, pathy, langcodes, spacy-legacy, spacy-loggers, spacy\n",
      "Successfully installed blis-0.7.7 catalogue-2.0.7 cymem-2.0.6 langcodes-3.3.0 murmurhash-1.0.7 pathy-0.6.1 preshed-3.0.6 pydantic-1.8.2 smart-open-5.2.1 spacy-3.3.0 spacy-legacy-3.0.9 spacy-loggers-1.0.2 srsly-2.4.3 thinc-8.0.15 typer-0.4.1 wasabi-0.9.1\n"
     ]
    }
   ],
   "source": [
    "!pip install spacy"
   ]
  },
  {
   "cell_type": "code",
   "execution_count": 2,
   "metadata": {},
   "outputs": [
    {
     "name": "stdout",
     "output_type": "stream",
     "text": [
      "Collecting en-core-web-sm==3.3.0\n",
      "  Downloading https://github.com/explosion/spacy-models/releases/download/en_core_web_sm-3.3.0/en_core_web_sm-3.3.0-py3-none-any.whl (12.8 MB)\n",
      "Requirement already satisfied: spacy<3.4.0,>=3.3.0.dev0 in c:\\programdata\\anaconda3\\lib\\site-packages (from en-core-web-sm==3.3.0) (3.3.0)\n",
      "Requirement already satisfied: pydantic!=1.8,!=1.8.1,<1.9.0,>=1.7.4 in c:\\programdata\\anaconda3\\lib\\site-packages (from spacy<3.4.0,>=3.3.0.dev0->en-core-web-sm==3.3.0) (1.8.2)\n",
      "Requirement already satisfied: spacy-legacy<3.1.0,>=3.0.9 in c:\\programdata\\anaconda3\\lib\\site-packages (from spacy<3.4.0,>=3.3.0.dev0->en-core-web-sm==3.3.0) (3.0.9)\n",
      "Requirement already satisfied: spacy-loggers<2.0.0,>=1.0.0 in c:\\programdata\\anaconda3\\lib\\site-packages (from spacy<3.4.0,>=3.3.0.dev0->en-core-web-sm==3.3.0) (1.0.2)\n",
      "Requirement already satisfied: cymem<2.1.0,>=2.0.2 in c:\\programdata\\anaconda3\\lib\\site-packages (from spacy<3.4.0,>=3.3.0.dev0->en-core-web-sm==3.3.0) (2.0.6)\n",
      "Requirement already satisfied: setuptools in c:\\programdata\\anaconda3\\lib\\site-packages (from spacy<3.4.0,>=3.3.0.dev0->en-core-web-sm==3.3.0) (50.3.1.post20201107)\n",
      "Requirement already satisfied: preshed<3.1.0,>=3.0.2 in c:\\programdata\\anaconda3\\lib\\site-packages (from spacy<3.4.0,>=3.3.0.dev0->en-core-web-sm==3.3.0) (3.0.6)\n",
      "Requirement already satisfied: thinc<8.1.0,>=8.0.14 in c:\\programdata\\anaconda3\\lib\\site-packages (from spacy<3.4.0,>=3.3.0.dev0->en-core-web-sm==3.3.0) (8.0.15)\n",
      "Requirement already satisfied: blis<0.8.0,>=0.4.0 in c:\\programdata\\anaconda3\\lib\\site-packages (from spacy<3.4.0,>=3.3.0.dev0->en-core-web-sm==3.3.0) (0.7.7)\n",
      "Requirement already satisfied: typer<0.5.0,>=0.3.0 in c:\\programdata\\anaconda3\\lib\\site-packages (from spacy<3.4.0,>=3.3.0.dev0->en-core-web-sm==3.3.0) (0.4.1)\n",
      "Requirement already satisfied: pathy>=0.3.5 in c:\\programdata\\anaconda3\\lib\\site-packages (from spacy<3.4.0,>=3.3.0.dev0->en-core-web-sm==3.3.0) (0.6.1)\n",
      "Requirement already satisfied: srsly<3.0.0,>=2.4.3 in c:\\programdata\\anaconda3\\lib\\site-packages (from spacy<3.4.0,>=3.3.0.dev0->en-core-web-sm==3.3.0) (2.4.3)\n",
      "Requirement already satisfied: tqdm<5.0.0,>=4.38.0 in c:\\programdata\\anaconda3\\lib\\site-packages (from spacy<3.4.0,>=3.3.0.dev0->en-core-web-sm==3.3.0) (4.50.2)\n",
      "Requirement already satisfied: murmurhash<1.1.0,>=0.28.0 in c:\\programdata\\anaconda3\\lib\\site-packages (from spacy<3.4.0,>=3.3.0.dev0->en-core-web-sm==3.3.0) (1.0.7)\n",
      "Requirement already satisfied: numpy>=1.15.0 in c:\\programdata\\anaconda3\\lib\\site-packages (from spacy<3.4.0,>=3.3.0.dev0->en-core-web-sm==3.3.0) (1.19.2)\n",
      "Requirement already satisfied: packaging>=20.0 in c:\\programdata\\anaconda3\\lib\\site-packages (from spacy<3.4.0,>=3.3.0.dev0->en-core-web-sm==3.3.0) (20.4)\n",
      "Requirement already satisfied: requests<3.0.0,>=2.13.0 in c:\\programdata\\anaconda3\\lib\\site-packages (from spacy<3.4.0,>=3.3.0.dev0->en-core-web-sm==3.3.0) (2.24.0)\n",
      "Requirement already satisfied: catalogue<2.1.0,>=2.0.6 in c:\\programdata\\anaconda3\\lib\\site-packages (from spacy<3.4.0,>=3.3.0.dev0->en-core-web-sm==3.3.0) (2.0.7)\n",
      "Requirement already satisfied: jinja2 in c:\\programdata\\anaconda3\\lib\\site-packages (from spacy<3.4.0,>=3.3.0.dev0->en-core-web-sm==3.3.0) (2.11.2)\n",
      "Requirement already satisfied: langcodes<4.0.0,>=3.2.0 in c:\\programdata\\anaconda3\\lib\\site-packages (from spacy<3.4.0,>=3.3.0.dev0->en-core-web-sm==3.3.0) (3.3.0)\n",
      "Requirement already satisfied: wasabi<1.1.0,>=0.9.1 in c:\\programdata\\anaconda3\\lib\\site-packages (from spacy<3.4.0,>=3.3.0.dev0->en-core-web-sm==3.3.0) (0.9.1)\n",
      "Requirement already satisfied: typing-extensions>=3.7.4.3 in c:\\programdata\\anaconda3\\lib\\site-packages (from pydantic!=1.8,!=1.8.1,<1.9.0,>=1.7.4->spacy<3.4.0,>=3.3.0.dev0->en-core-web-sm==3.3.0) (3.7.4.3)\n",
      "Requirement already satisfied: click<9.0.0,>=7.1.1 in c:\\programdata\\anaconda3\\lib\\site-packages (from typer<0.5.0,>=0.3.0->spacy<3.4.0,>=3.3.0.dev0->en-core-web-sm==3.3.0) (7.1.2)\n",
      "Requirement already satisfied: smart-open<6.0.0,>=5.0.0 in c:\\programdata\\anaconda3\\lib\\site-packages (from pathy>=0.3.5->spacy<3.4.0,>=3.3.0.dev0->en-core-web-sm==3.3.0) (5.2.1)\n",
      "Requirement already satisfied: pyparsing>=2.0.2 in c:\\programdata\\anaconda3\\lib\\site-packages (from packaging>=20.0->spacy<3.4.0,>=3.3.0.dev0->en-core-web-sm==3.3.0) (2.4.7)\n",
      "Requirement already satisfied: six in c:\\programdata\\anaconda3\\lib\\site-packages (from packaging>=20.0->spacy<3.4.0,>=3.3.0.dev0->en-core-web-sm==3.3.0) (1.15.0)\n",
      "Requirement already satisfied: urllib3!=1.25.0,!=1.25.1,<1.26,>=1.21.1 in c:\\programdata\\anaconda3\\lib\\site-packages (from requests<3.0.0,>=2.13.0->spacy<3.4.0,>=3.3.0.dev0->en-core-web-sm==3.3.0) (1.25.11)\n",
      "Requirement already satisfied: idna<3,>=2.5 in c:\\programdata\\anaconda3\\lib\\site-packages (from requests<3.0.0,>=2.13.0->spacy<3.4.0,>=3.3.0.dev0->en-core-web-sm==3.3.0) (2.10)\n",
      "Requirement already satisfied: certifi>=2017.4.17 in c:\\programdata\\anaconda3\\lib\\site-packages (from requests<3.0.0,>=2.13.0->spacy<3.4.0,>=3.3.0.dev0->en-core-web-sm==3.3.0) (2020.6.20)\n",
      "Requirement already satisfied: chardet<4,>=3.0.2 in c:\\programdata\\anaconda3\\lib\\site-packages (from requests<3.0.0,>=2.13.0->spacy<3.4.0,>=3.3.0.dev0->en-core-web-sm==3.3.0) (3.0.4)\n",
      "Requirement already satisfied: MarkupSafe>=0.23 in c:\\programdata\\anaconda3\\lib\\site-packages (from jinja2->spacy<3.4.0,>=3.3.0.dev0->en-core-web-sm==3.3.0) (1.1.1)\n",
      "Installing collected packages: en-core-web-sm\n",
      "Successfully installed en-core-web-sm-3.3.0\n",
      "[+] Download and installation successful\n",
      "You can now load the package via spacy.load('en_core_web_sm')\n"
     ]
    }
   ],
   "source": [
    "!python -m spacy download en_core_web_sm"
   ]
  },
  {
   "cell_type": "code",
   "execution_count": 38,
   "metadata": {},
   "outputs": [
    {
     "name": "stdout",
     "output_type": "stream",
     "text": [
      "[ The Republican president is being challenged by Democratic Party nominee Joe Biden, who is best known as Barack Obama’s vice-president but has been in US politics since the 1970s., As election day approaches, pollingcompanies will be trying to gauge the mood of the nation by asking voters which candidate they prefer.]\n"
     ]
    }
   ],
   "source": [
    "import spacy\n",
    "data = spacy.load('en_core_web_sm')\n",
    "text = \"\"\" The Republican president is being challenged by Democratic Party nominee Joe Biden, who is best known as Barack Obama’s vice-president but has been in US politics since the 1970s.As election day approaches, pollingcompanies will be trying to gauge the mood of the nation by asking voters which candidate they prefer.\"\"\"\n",
    "# text = 'Here is me. How are you?'\n",
    "d=data(text)\n",
    "# sentence tokenization\n",
    "print(list(d.sents))\n",
    "\n",
    "\n"
   ]
  },
  {
   "cell_type": "code",
   "execution_count": 9,
   "metadata": {},
   "outputs": [
    {
     "data": {
      "text/plain": [
       "spacy.tokens.doc.Doc"
      ]
     },
     "execution_count": 9,
     "metadata": {},
     "output_type": "execute_result"
    }
   ],
   "source": [
    "type(d)"
   ]
  },
  {
   "cell_type": "code",
   "execution_count": 7,
   "metadata": {},
   "outputs": [
    {
     "name": "stdout",
     "output_type": "stream",
     "text": [
      "Here\n",
      "is\n",
      "me\n",
      ".\n",
      "How\n",
      "are\n",
      "you\n",
      "?\n"
     ]
    }
   ],
   "source": [
    "for token in d:\n",
    "    print(token)"
   ]
  },
  {
   "cell_type": "code",
   "execution_count": 10,
   "metadata": {},
   "outputs": [
    {
     "name": "stdout",
     "output_type": "stream",
     "text": [
      "{'such', 'some', 'thence', 'latter', 'each', 'give', 'less', '’s', 'put', 'nor', 'down', 'anyway', 'wherein', 'over', 'even', 'three', 'forty', 'toward', 'she', 'moreover', 'n’t', 'otherwise', 'him', 'bottom', 'this', 'as', 'her', 'six', 'both', 'be', 'namely', 'a', 'sometime', 'last', 'by', 'however', 'often', 'hence', 'keep', 'whereafter', 'somehow', \"'ll\", 'regarding', 'cannot', 'well', 'whom', 'would', 'fifty', 'own', 'twelve', 'almost', 'move', 'former', 'ten', 'top', 'noone', 'much', 'say', 'am', 'me', 'itself', 'back', 'what', 'became', 'hundred', 'already', 'myself', 'done', 'which', 'used', 'will', 'the', 'to', 'make', 'enough', 'who', \"'ve\", 're', 'behind', 'using', 'few', 'beyond', \"n't\", 'seeming', 'against', 'could', '’m', 'just', 'perhaps', 'whither', 'thus', 'too', 'here', 'them', 'whereas', 'in', 'nine', 'you', 'about', 'thru', 'only', 'call', 'something', 'others', 'may', 'meanwhile', 'everyone', 'on', 'being', 'themselves', 'least', 'two', 'indeed', 'eleven', 'never', 'amongst', 'of', 'thereby', 'quite', 'anyhow', 'why', 'towards', '‘s', 'during', 'out', 'also', 'becoming', 'from', 'us', 'yours', 'herein', 'seems', 'one', 'every', 'while', 'really', 'formerly', 'between', 'i', 'were', 'he', 'an', \"'m\", 'sixty', 'but', 'hereupon', 'it', 'latterly', 'front', 'doing', 'always', '‘ll', 'whereupon', 'serious', 'whoever', 'together', 'does', 'many', 'n‘t', 'rather', 'there', '‘re', 'beforehand', 'part', 'that', 'your', 'else', 'another', 'empty', 'thereupon', 'although', 'elsewhere', 'nowhere', 'most', 'mostly', 'therefore', 'not', 'have', 'nothing', 'several', 'seem', 'below', 'these', 'above', 'is', 'take', 'with', 'no', 'until', 'sometimes', '’ve', 'do', 'all', 'any', 'across', 'if', 'ourselves', 'someone', 'somewhere', 'under', 'everywhere', 'same', 'throughout', 'whenever', 'five', 'eight', 'himself', 'anyone', 'side', 'ours', 'first', 'becomes', 'been', 'again', 'hereby', 'how', 'must', 'amount', 'had', 'thereafter', 'whence', 'twenty', '‘ve', 'was', 'off', 'whereby', 'did', 'they', 'has', '’d', \"'d\", 'when', 'become', 'nobody', 'get', 'around', 'unless', \"'s\", 'neither', 'than', 'and', 'should', 'made', 'into', 'via', 'hers', 'next', '‘d', 'name', 'his', 'none', 'onto', 'third', 'ever', 'full', 'anything', 'go', 'my', 'yourself', 'whose', 'are', 'can', 'along', 'now', 'our', 'once', 'afterwards', 'therein', 'we', 'within', 'beside', 'since', 'might', 'yourselves', 'either', '’re', 'per', 'without', 'see', 'four', 'yet', 'alone', 'please', 'whole', 'more', 'whether', 'whatever', 'other', 'still', 'those', 'so', 'its', 'herself', 'up', 'besides', 'very', 'before', 'various', 'nevertheless', 'ca', 'hereafter', '’ll', \"'re\", 'fifteen', 'further', 'through', 'their', 'then', 'or', 'where', 'everything', 'among', 'except', 'mine', '‘m', 'show', 'anywhere', 'upon', 'though', 'at', 'wherever', 'because', 'after', 'for', 'due', 'seemed'}\n"
     ]
    }
   ],
   "source": [
    "stopwords = spacy.lang.en.stop_words.STOP_WORDS\n",
    "print(stopwords)"
   ]
  },
  {
   "cell_type": "code",
   "execution_count": 22,
   "metadata": {},
   "outputs": [
    {
     "name": "stdout",
     "output_type": "stream",
     "text": [
      "[ , Republican, president, challenged, Democratic, Party, nominee, Joe, Biden, best, known, Barack, Obama, vice, president, politics, 1970s, election, day, approaches, pollingcompanies, trying, gauge, mood, nation, asking, voters, candidate, prefer]\n"
     ]
    }
   ],
   "source": [
    "clean_data = [word for word in d if not word.is_stop and not word.is_punct]\n",
    "print(clean_data)"
   ]
  },
  {
   "cell_type": "code",
   "execution_count": 27,
   "metadata": {},
   "outputs": [],
   "source": [
    "def stop(sent):\n",
    "  op = data(sent)\n",
    "  clean_data = []\n",
    "  for words in op:\n",
    "    if not words.is_stop:\n",
    "      if not words.is_punct:\n",
    "        clean_data.append(words)\n",
    "\n",
    "  return clean_data\n",
    "\n",
    "def lemma(sent):\n",
    "  for data in sent:\n",
    "    print(data , '-->' ,data.lemma_)\n",
    "  \n",
    "def pos(sent):\n",
    "    for data in sent:\n",
    "        print(data, '-->', data.tag_, '-->', data.pos_, spacy.explain(data.tag_))"
   ]
  },
  {
   "cell_type": "code",
   "execution_count": 24,
   "metadata": {},
   "outputs": [
    {
     "name": "stdout",
     "output_type": "stream",
     "text": [
      "  -->  \n",
      "Republican --> republican\n",
      "president --> president\n",
      "challenged --> challenge\n",
      "Democratic --> Democratic\n",
      "Party --> Party\n",
      "nominee --> nominee\n",
      "Joe --> Joe\n",
      "Biden --> Biden\n",
      "best --> well\n",
      "known --> know\n",
      "Barack --> Barack\n",
      "Obama --> Obama\n",
      "vice --> vice\n",
      "president --> president\n",
      "politics --> politic\n",
      "1970s --> 1970\n",
      "election --> election\n",
      "day --> day\n",
      "approaches --> approach\n",
      "pollingcompanies --> pollingcompanie\n",
      "trying --> try\n",
      "gauge --> gauge\n",
      "mood --> mood\n",
      "nation --> nation\n",
      "asking --> ask\n",
      "voters --> voter\n",
      "candidate --> candidate\n",
      "prefer --> prefer\n",
      "None\n"
     ]
    }
   ],
   "source": [
    "data = stop(text)\n",
    "print(lemma(data))"
   ]
  },
  {
   "cell_type": "code",
   "execution_count": 28,
   "metadata": {},
   "outputs": [
    {
     "name": "stdout",
     "output_type": "stream",
     "text": [
      "  --> _SP --> SPACE whitespace\n",
      "Republican --> JJ --> ADJ adjective (English), other noun-modifier (Chinese)\n",
      "president --> NN --> NOUN noun, singular or mass\n",
      "challenged --> VBN --> VERB verb, past participle\n",
      "Democratic --> NNP --> PROPN noun, proper singular\n",
      "Party --> NNP --> PROPN noun, proper singular\n",
      "nominee --> NN --> NOUN noun, singular or mass\n",
      "Joe --> NNP --> PROPN noun, proper singular\n",
      "Biden --> NNP --> PROPN noun, proper singular\n",
      "best --> RBS --> ADV adverb, superlative\n",
      "known --> VBN --> VERB verb, past participle\n",
      "Barack --> NNP --> PROPN noun, proper singular\n",
      "Obama --> NNP --> PROPN noun, proper singular\n",
      "vice --> NN --> NOUN noun, singular or mass\n",
      "president --> NN --> NOUN noun, singular or mass\n",
      "politics --> NNS --> NOUN noun, plural\n",
      "1970s --> NNS --> NOUN noun, plural\n",
      "election --> NN --> NOUN noun, singular or mass\n",
      "day --> NN --> NOUN noun, singular or mass\n",
      "approaches --> NNS --> NOUN noun, plural\n",
      "pollingcompanies --> NNS --> NOUN noun, plural\n",
      "trying --> VBG --> VERB verb, gerund or present participle\n",
      "gauge --> VB --> VERB verb, base form\n",
      "mood --> NN --> NOUN noun, singular or mass\n",
      "nation --> NN --> NOUN noun, singular or mass\n",
      "asking --> VBG --> VERB verb, gerund or present participle\n",
      "voters --> NNS --> NOUN noun, plural\n",
      "candidate --> NN --> NOUN noun, singular or mass\n",
      "prefer --> VBP --> VERB verb, non-3rd person singular present\n",
      "None\n"
     ]
    }
   ],
   "source": [
    "print(pos(data))"
   ]
  },
  {
   "cell_type": "code",
   "execution_count": null,
   "metadata": {},
   "outputs": [],
   "source": [
    "is_ascii\n",
    "is_digit\n",
    "is_lower\n",
    "is_uppercase\n",
    "is_space\n",
    "is_stop\n",
    "is_punct\n",
    "is_email\n",
    "is_url"
   ]
  },
  {
   "cell_type": "code",
   "execution_count": 39,
   "metadata": {},
   "outputs": [
    {
     "name": "stdout",
     "output_type": "stream",
     "text": [
      "Republican --> NORP\n",
      "Democratic Party --> ORG\n",
      "Joe Biden --> PERSON\n"
     ]
    }
   ],
   "source": [
    "doc = data(\"The Republican president is being charged by Democratic Party nominee Joe Biden\")\n",
    "for entity in doc.ents:\n",
    "    print(entity, '-->', entity.label_)"
   ]
  },
  {
   "cell_type": "code",
   "execution_count": 40,
   "metadata": {},
   "outputs": [
    {
     "data": {
      "text/html": [
       "<span class=\"tex2jax_ignore\"><div class=\"entities\" style=\"line-height: 2.5; direction: ltr\">The \n",
       "<mark class=\"entity\" style=\"background: #c887fb; padding: 0.45em 0.6em; margin: 0 0.25em; line-height: 1; border-radius: 0.35em;\">\n",
       "    Republican\n",
       "    <span style=\"font-size: 0.8em; font-weight: bold; line-height: 1; border-radius: 0.35em; vertical-align: middle; margin-left: 0.5rem\">NORP</span>\n",
       "</mark>\n",
       " president is being charged by \n",
       "<mark class=\"entity\" style=\"background: #7aecec; padding: 0.45em 0.6em; margin: 0 0.25em; line-height: 1; border-radius: 0.35em;\">\n",
       "    Democratic Party\n",
       "    <span style=\"font-size: 0.8em; font-weight: bold; line-height: 1; border-radius: 0.35em; vertical-align: middle; margin-left: 0.5rem\">ORG</span>\n",
       "</mark>\n",
       " nominee \n",
       "<mark class=\"entity\" style=\"background: #aa9cfc; padding: 0.45em 0.6em; margin: 0 0.25em; line-height: 1; border-radius: 0.35em;\">\n",
       "    Joe Biden\n",
       "    <span style=\"font-size: 0.8em; font-weight: bold; line-height: 1; border-radius: 0.35em; vertical-align: middle; margin-left: 0.5rem\">PERSON</span>\n",
       "</mark>\n",
       "</div></span>"
      ],
      "text/plain": [
       "<IPython.core.display.HTML object>"
      ]
     },
     "metadata": {},
     "output_type": "display_data"
    }
   ],
   "source": [
    "from spacy import displacy\n",
    "displacy.render(doc, style='ent', jupyter = True)"
   ]
  },
  {
   "cell_type": "code",
   "execution_count": 33,
   "metadata": {},
   "outputs": [
    {
     "name": "stdout",
     "output_type": "stream",
     "text": [
      "Collecting en-core-web-md==3.3.0\n",
      "  Downloading https://github.com/explosion/spacy-models/releases/download/en_core_web_md-3.3.0/en_core_web_md-3.3.0-py3-none-any.whl (33.5 MB)\n",
      "Requirement already satisfied: spacy<3.4.0,>=3.3.0.dev0 in c:\\programdata\\anaconda3\\lib\\site-packages (from en-core-web-md==3.3.0) (3.3.0)\n",
      "Requirement already satisfied: spacy-legacy<3.1.0,>=3.0.9 in c:\\programdata\\anaconda3\\lib\\site-packages (from spacy<3.4.0,>=3.3.0.dev0->en-core-web-md==3.3.0) (3.0.9)\n",
      "Requirement already satisfied: srsly<3.0.0,>=2.4.3 in c:\\programdata\\anaconda3\\lib\\site-packages (from spacy<3.4.0,>=3.3.0.dev0->en-core-web-md==3.3.0) (2.4.3)\n",
      "Requirement already satisfied: typer<0.5.0,>=0.3.0 in c:\\programdata\\anaconda3\\lib\\site-packages (from spacy<3.4.0,>=3.3.0.dev0->en-core-web-md==3.3.0) (0.4.1)\n",
      "Requirement already satisfied: wasabi<1.1.0,>=0.9.1 in c:\\programdata\\anaconda3\\lib\\site-packages (from spacy<3.4.0,>=3.3.0.dev0->en-core-web-md==3.3.0) (0.9.1)\n",
      "Requirement already satisfied: requests<3.0.0,>=2.13.0 in c:\\programdata\\anaconda3\\lib\\site-packages (from spacy<3.4.0,>=3.3.0.dev0->en-core-web-md==3.3.0) (2.24.0)\n",
      "Requirement already satisfied: pydantic!=1.8,!=1.8.1,<1.9.0,>=1.7.4 in c:\\programdata\\anaconda3\\lib\\site-packages (from spacy<3.4.0,>=3.3.0.dev0->en-core-web-md==3.3.0) (1.8.2)\n",
      "Requirement already satisfied: jinja2 in c:\\programdata\\anaconda3\\lib\\site-packages (from spacy<3.4.0,>=3.3.0.dev0->en-core-web-md==3.3.0) (2.11.2)\n",
      "Requirement already satisfied: langcodes<4.0.0,>=3.2.0 in c:\\programdata\\anaconda3\\lib\\site-packages (from spacy<3.4.0,>=3.3.0.dev0->en-core-web-md==3.3.0) (3.3.0)\n",
      "Requirement already satisfied: thinc<8.1.0,>=8.0.14 in c:\\programdata\\anaconda3\\lib\\site-packages (from spacy<3.4.0,>=3.3.0.dev0->en-core-web-md==3.3.0) (8.0.15)\n",
      "Requirement already satisfied: spacy-loggers<2.0.0,>=1.0.0 in c:\\programdata\\anaconda3\\lib\\site-packages (from spacy<3.4.0,>=3.3.0.dev0->en-core-web-md==3.3.0) (1.0.2)\n",
      "Requirement already satisfied: setuptools in c:\\programdata\\anaconda3\\lib\\site-packages (from spacy<3.4.0,>=3.3.0.dev0->en-core-web-md==3.3.0) (50.3.1.post20201107)\n",
      "Requirement already satisfied: murmurhash<1.1.0,>=0.28.0 in c:\\programdata\\anaconda3\\lib\\site-packages (from spacy<3.4.0,>=3.3.0.dev0->en-core-web-md==3.3.0) (1.0.7)\n",
      "Requirement already satisfied: pathy>=0.3.5 in c:\\programdata\\anaconda3\\lib\\site-packages (from spacy<3.4.0,>=3.3.0.dev0->en-core-web-md==3.3.0) (0.6.1)\n",
      "Requirement already satisfied: blis<0.8.0,>=0.4.0 in c:\\programdata\\anaconda3\\lib\\site-packages (from spacy<3.4.0,>=3.3.0.dev0->en-core-web-md==3.3.0) (0.7.7)\n",
      "Requirement already satisfied: catalogue<2.1.0,>=2.0.6 in c:\\programdata\\anaconda3\\lib\\site-packages (from spacy<3.4.0,>=3.3.0.dev0->en-core-web-md==3.3.0) (2.0.7)\n",
      "Requirement already satisfied: preshed<3.1.0,>=3.0.2 in c:\\programdata\\anaconda3\\lib\\site-packages (from spacy<3.4.0,>=3.3.0.dev0->en-core-web-md==3.3.0) (3.0.6)\n",
      "Requirement already satisfied: packaging>=20.0 in c:\\programdata\\anaconda3\\lib\\site-packages (from spacy<3.4.0,>=3.3.0.dev0->en-core-web-md==3.3.0) (20.4)\n",
      "Requirement already satisfied: cymem<2.1.0,>=2.0.2 in c:\\programdata\\anaconda3\\lib\\site-packages (from spacy<3.4.0,>=3.3.0.dev0->en-core-web-md==3.3.0) (2.0.6)\n",
      "Requirement already satisfied: tqdm<5.0.0,>=4.38.0 in c:\\programdata\\anaconda3\\lib\\site-packages (from spacy<3.4.0,>=3.3.0.dev0->en-core-web-md==3.3.0) (4.50.2)\n",
      "Requirement already satisfied: numpy>=1.15.0 in c:\\programdata\\anaconda3\\lib\\site-packages (from spacy<3.4.0,>=3.3.0.dev0->en-core-web-md==3.3.0) (1.19.2)\n",
      "Requirement already satisfied: click<9.0.0,>=7.1.1 in c:\\programdata\\anaconda3\\lib\\site-packages (from typer<0.5.0,>=0.3.0->spacy<3.4.0,>=3.3.0.dev0->en-core-web-md==3.3.0) (7.1.2)\n",
      "Requirement already satisfied: urllib3!=1.25.0,!=1.25.1,<1.26,>=1.21.1 in c:\\programdata\\anaconda3\\lib\\site-packages (from requests<3.0.0,>=2.13.0->spacy<3.4.0,>=3.3.0.dev0->en-core-web-md==3.3.0) (1.25.11)\n",
      "Requirement already satisfied: idna<3,>=2.5 in c:\\programdata\\anaconda3\\lib\\site-packages (from requests<3.0.0,>=2.13.0->spacy<3.4.0,>=3.3.0.dev0->en-core-web-md==3.3.0) (2.10)\n",
      "Requirement already satisfied: chardet<4,>=3.0.2 in c:\\programdata\\anaconda3\\lib\\site-packages (from requests<3.0.0,>=2.13.0->spacy<3.4.0,>=3.3.0.dev0->en-core-web-md==3.3.0) (3.0.4)\n",
      "Requirement already satisfied: certifi>=2017.4.17 in c:\\programdata\\anaconda3\\lib\\site-packages (from requests<3.0.0,>=2.13.0->spacy<3.4.0,>=3.3.0.dev0->en-core-web-md==3.3.0) (2020.6.20)\n",
      "Requirement already satisfied: typing-extensions>=3.7.4.3 in c:\\programdata\\anaconda3\\lib\\site-packages (from pydantic!=1.8,!=1.8.1,<1.9.0,>=1.7.4->spacy<3.4.0,>=3.3.0.dev0->en-core-web-md==3.3.0) (3.7.4.3)\n",
      "Requirement already satisfied: MarkupSafe>=0.23 in c:\\programdata\\anaconda3\\lib\\site-packages (from jinja2->spacy<3.4.0,>=3.3.0.dev0->en-core-web-md==3.3.0) (1.1.1)\n",
      "Requirement already satisfied: smart-open<6.0.0,>=5.0.0 in c:\\programdata\\anaconda3\\lib\\site-packages (from pathy>=0.3.5->spacy<3.4.0,>=3.3.0.dev0->en-core-web-md==3.3.0) (5.2.1)\n",
      "Requirement already satisfied: six in c:\\programdata\\anaconda3\\lib\\site-packages (from packaging>=20.0->spacy<3.4.0,>=3.3.0.dev0->en-core-web-md==3.3.0) (1.15.0)\n",
      "Requirement already satisfied: pyparsing>=2.0.2 in c:\\programdata\\anaconda3\\lib\\site-packages (from packaging>=20.0->spacy<3.4.0,>=3.3.0.dev0->en-core-web-md==3.3.0) (2.4.7)\n",
      "Installing collected packages: en-core-web-md\n",
      "Successfully installed en-core-web-md-3.3.0\n",
      "[+] Download and installation successful\n",
      "You can now load the package via spacy.load('en_core_web_md')\n"
     ]
    }
   ],
   "source": [
    "!python -m spacy download en_core_web_md"
   ]
  },
  {
   "cell_type": "code",
   "execution_count": 34,
   "metadata": {},
   "outputs": [
    {
     "ename": "AttributeError",
     "evalue": "module 'spacy' has no attribute 'lod'",
     "output_type": "error",
     "traceback": [
      "\u001b[1;31m---------------------------------------------------------------------------\u001b[0m",
      "\u001b[1;31mAttributeError\u001b[0m                            Traceback (most recent call last)",
      "\u001b[1;32m<ipython-input-34-16885f643e50>\u001b[0m in \u001b[0;36m<module>\u001b[1;34m\u001b[0m\n\u001b[1;32m----> 1\u001b[1;33m \u001b[0mnlp\u001b[0m \u001b[1;33m=\u001b[0m \u001b[0mspacy\u001b[0m\u001b[1;33m.\u001b[0m\u001b[0mlod\u001b[0m\u001b[1;33m(\u001b[0m\u001b[1;34m'en_core_web_md'\u001b[0m\u001b[1;33m)\u001b[0m\u001b[1;33m\u001b[0m\u001b[1;33m\u001b[0m\u001b[0m\n\u001b[0m",
      "\u001b[1;31mAttributeError\u001b[0m: module 'spacy' has no attribute 'lod'"
     ]
    }
   ],
   "source": [
    "nlp = spacy.lod('en_core_web_md')"
   ]
  },
  {
   "cell_type": "code",
   "execution_count": 42,
   "metadata": {},
   "outputs": [
    {
     "name": "stdout",
     "output_type": "stream",
     "text": [
      "The --> True\n",
      "The --> [ 0.14974678 -0.90420115 -1.2403924   0.85885644  0.39000648 -0.54866433\n",
      " -0.25283748  0.82411116 -0.18683955 -0.82823104  0.2520049   0.91474646\n",
      "  0.32469878  0.9310128  -1.1841639   0.9870807  -1.1482586  -0.59415495\n",
      "  0.7264644  -0.2123307  -0.45836943  0.4962396  -0.6980081  -1.2617726\n",
      "  1.4933758  -0.41094595  0.9986772  -0.7316174  -0.824649   -0.60074353\n",
      " -0.90570855  0.17707536 -1.0475738  -0.3841213  -0.30207095  0.7235307\n",
      " -1.3201729  -0.38625112  0.04563802 -1.6554136   0.32774413  0.75794435\n",
      " -0.9298022  -0.21921086 -0.9280822   0.69352317  2.0983086   0.5840012\n",
      "  2.0882783  -0.8165695  -0.8639763  -1.0395666  -0.69589865  1.0105066\n",
      "  0.9340279   1.3617383   1.2207661   0.27527225 -0.02098978 -1.0285428\n",
      "  2.0065298  -0.38770872 -0.4789861   0.8023417   0.6327479   0.7978812\n",
      "  0.01769386 -0.57519907  0.5150002  -0.19954419  2.0319228   0.50362194\n",
      " -1.4889748   0.77615273 -0.9545561   0.4162454   1.8712132  -0.7172165\n",
      " -0.6512592  -0.4712565  -0.2884139  -1.3748835  -0.7882905   0.71179384\n",
      "  0.30729204 -0.5415003   1.5766454  -0.6499053  -0.82149124 -0.3985718\n",
      "  0.16634795 -0.17848377 -0.00626835 -0.52091855 -0.36485177  0.6754258 ]\n",
      "Republican --> True\n",
      "Republican --> [-0.7822785  -0.44409984 -0.2889488  -0.11948489  0.9955255  -0.02143373\n",
      " -0.9385899   0.18469338  1.5508385  -0.80938137 -1.0399573  -0.17704701\n",
      " -0.42341945  1.2019435  -0.6759878  -0.87377286  1.0715508  -0.47799116\n",
      " -0.07762495  0.6987132   1.6096045   0.0508002   0.39701557 -0.39813766\n",
      "  0.17488104 -0.70732087  0.16702941 -0.93842626 -0.37487823 -0.3585038\n",
      "  0.54818225 -1.1610657   0.3127821  -0.1906549   0.13640545 -0.60358727\n",
      " -0.30389842  0.96569705  1.0421624  -1.7390227   0.48526597  0.24471842\n",
      " -0.02301932 -0.5443868   0.4968752  -0.5463537   3.5671017  -1.936614\n",
      "  1.8679942  -0.17151693 -0.9271028  -0.98099256  0.01485146 -0.4401129\n",
      " -0.5526676   2.332646    2.1632578   0.7379258   0.19767612 -1.0261105\n",
      " -0.14984897 -0.52998805  1.7443823   0.87032366 -0.6435946   0.66976035\n",
      "  0.8890962  -0.20151138 -0.28922954 -0.35243112  1.0694361   0.31365415\n",
      "  0.7953068   0.6602714  -0.13228634  0.05055882 -0.69233036  1.547143\n",
      " -0.5762173   0.66873205 -0.56997764 -1.4628961  -1.1373599   1.4338901\n",
      " -1.0239252   0.29168597 -0.09152925 -0.9872417  -0.65680516  0.85027474\n",
      " -0.34838152 -0.19778457  0.00694213 -0.94166225  0.7498908   0.08717163]\n",
      "president --> True\n",
      "president --> [-0.03436975 -0.63145864  0.7092277   0.6901812   0.6440669  -0.0381704\n",
      "  0.26664385 -0.04457885  1.084211   -0.2234272  -0.24680963 -0.8391405\n",
      "  0.805784   -0.05435573  1.9242939   0.19037595  0.11469144 -0.64255774\n",
      " -0.41967803 -0.15699524  0.43553382 -0.05330942  1.2307758   1.0603282\n",
      " -0.03530694  1.771447   -0.06743657 -1.1010098   0.11323117 -0.22017652\n",
      "  0.09305845 -0.967836   -1.7581406  -0.5555315  -0.93268585 -0.2823962\n",
      " -0.9340019   0.33456013 -0.24159294 -1.9777479  -0.71803707 -0.4037366\n",
      " -0.7937529  -0.27832815 -0.39195555  0.93074906  0.74044377 -0.64892185\n",
      " -0.18418887  0.6550238  -0.6223001  -0.24129778  0.45090333  1.6873909\n",
      "  0.38506174  1.2075379   0.24535525 -0.29284894 -0.25151366 -0.6576831\n",
      " -0.78251076 -1.1986442   0.5688871   0.8120981  -1.0892265  -0.0270503\n",
      " -0.17786504 -0.33083582 -0.3251565  -0.67409813  0.18654573 -0.44000825\n",
      " -0.03566471  0.0307492  -0.251964    1.2178408  -0.24493365  0.76255596\n",
      " -0.27701166  1.2310153   1.0024796  -0.9200784  -0.2747025   0.7513587\n",
      "  0.1910764   0.23838204 -0.084485    0.9293176   0.26487944 -0.47717643\n",
      " -1.1431446   0.0339475  -0.27896148  0.4932141  -0.013163    0.84438676]\n",
      "is --> True\n",
      "is --> [ 1.0832942e+00 -3.7060913e-01  1.4739842e+00 -6.7052263e-01\n",
      "  9.4194368e-02  2.1320760e+00  7.6604009e-01  6.1134303e-01\n",
      "  4.4401124e-02  6.1054066e-02  1.9963912e+00 -5.2951163e-01\n",
      " -9.9316120e-02 -4.7806799e-01 -1.3453579e-01 -1.2930683e+00\n",
      " -7.3408216e-01  7.1289212e-02 -1.4509099e+00 -2.7097490e-01\n",
      "  1.2357970e+00  2.6367462e-01 -1.7129021e+00 -1.3481026e+00\n",
      " -8.5164988e-01  8.8285440e-01 -3.0275667e-01 -1.6392671e-01\n",
      " -1.2926677e+00 -6.5390848e-02  3.2028809e-01  1.1219451e+00\n",
      "  1.0820758e+00  1.2137505e+00  2.4467084e-01 -8.5808641e-01\n",
      "  1.1295381e+00  9.2658430e-01  2.4526794e-01  3.5739914e-01\n",
      " -7.0864522e-01 -2.6200712e-04  4.5336717e-01  3.0134773e-01\n",
      " -8.9100957e-01 -6.1779153e-01  2.4863166e-01 -8.8474500e-01\n",
      " -4.8336136e-01 -1.0314326e+00  6.2885886e-01  1.6399258e-01\n",
      "  1.7209246e+00  5.6064898e-01 -1.5463832e-01 -5.3273731e-01\n",
      " -4.4571161e-01  2.7599454e-01 -1.4392172e+00  1.5975945e-01\n",
      " -2.9972559e-01 -1.0823356e+00  3.4031755e-01  6.7488767e-02\n",
      " -4.2293233e-01 -9.4018698e-01 -5.7882547e-01  5.9972900e-01\n",
      " -8.8881928e-01  2.6170039e-01 -8.8804710e-01  1.5611787e+00\n",
      "  1.0726945e-01  1.4930419e+00  3.9576963e-01  4.9832478e-01\n",
      " -7.8816384e-01  1.3388306e-01 -5.8756816e-01 -5.9181678e-01\n",
      " -2.5294065e-01  1.4630914e+00  5.3303295e-01 -8.9069575e-02\n",
      " -3.4106570e-01 -2.8318018e-01 -7.8260624e-01  7.3272824e-02\n",
      " -1.5441594e+00  8.5970759e-02 -7.5353324e-01  3.1937176e-01\n",
      "  2.1740794e-01  1.3580427e+00  3.9403194e-01 -6.1111832e-01]\n",
      "being --> True\n",
      "being --> [ 0.3271674  -0.4239024  -0.6533672   1.7253925   2.848895   -0.2862525\n",
      "  0.4164735   0.04508853  0.09400842 -0.7261555   1.6080139  -1.0287764\n",
      "  0.40022385 -1.0106554  -0.92018616  0.36763683 -2.4329333  -0.24056293\n",
      " -1.0874085   1.1305304   1.3612131   1.0033686   0.7517655  -2.501111\n",
      " -1.1341565  -0.20300722 -1.0980092   1.709968   -0.366764    0.82632923\n",
      "  0.05670643  0.18623759  2.251067    1.3161031   0.7377768  -0.29577893\n",
      " -0.41258204  0.38675523  0.9717711  -0.31854916 -0.13664383 -0.69710577\n",
      "  0.77533823  0.4686619  -0.02861509 -0.4029498  -0.02697127  0.09163551\n",
      "  0.6033251   1.2267324   0.7544558   0.36650294 -0.90168446  0.4163363\n",
      "  1.5624152   1.2406201  -2.4328797   1.1209301  -0.05044131  2.387395\n",
      " -0.21380289 -2.0027351  -0.3652674   0.10717668 -0.26997247 -0.25170177\n",
      "  0.2599228   0.64870137  0.21662152 -0.7236737  -0.26711464  0.00635919\n",
      "  0.03864798  2.0618427  -1.6584162   0.24252504 -1.4472512  -0.8097663\n",
      "  0.09275973 -0.20232432  0.9179071   0.05454147  1.5844817   0.72899866\n",
      " -1.5609517  -0.47316772 -0.34772706  0.08614162 -0.7944311  -0.14821826\n",
      " -2.2848222  -1.146031    1.0925461   0.8762448   0.22187853 -0.9636438 ]\n",
      "challenged --> True\n",
      "challenged --> [-0.18061075  1.5795498  -1.3306596  -0.9425442  -0.71038115  0.28384858\n",
      " -0.4565028  -0.06137095  0.53668     0.8273078   0.68458843  0.54742545\n",
      "  0.2916817   0.2593369  -0.22276278 -0.45316213  0.33763358  0.6364255\n",
      " -1.6135346   1.8387768   0.4182468   0.9570221   0.5004033  -0.26653358\n",
      " -0.5141265  -0.07380279  0.47896612  0.61761165  0.01221168 -0.22687867\n",
      " -0.1138888  -0.8569737   1.9326364   0.3387903  -0.6093683   0.17974457\n",
      "  1.1489189  -0.9408151  -1.052132   -0.52297145 -0.5936277  -0.20513834\n",
      " -0.05268368 -0.29153144  1.2304447   0.5521778  -0.62251633 -1.5131016\n",
      " -0.36637297  0.98811626 -1.0777953   0.24315062 -0.80908126  0.84954035\n",
      " -0.5791988   2.6597958  -1.6569726  -1.087353   -0.379048   -0.69960326\n",
      "  0.66925573 -0.0849084   2.4161448  -0.02661169  0.9496452   2.1063476\n",
      " -0.42378834 -1.6200033   0.12512465 -0.46078345  0.64992154  0.4792625\n",
      " -0.41949198  0.15612988 -0.87131405 -0.59907407  2.2080173  -0.25482827\n",
      "  0.93989617 -0.0659792   0.65690684 -0.37090474 -0.6944319  -0.5665272\n",
      " -1.0860927   0.39906526 -0.71364003 -1.0253539   0.8710104   0.6021587\n",
      " -1.3026216  -0.35983974 -0.15322241  0.04999295  0.21052018 -0.635239  ]\n",
      "by --> True\n",
      "by --> [-1.4392762   0.02129753  0.6999301  -1.045092   -0.6228921   0.07888354\n",
      " -0.80827755 -0.9479284  -0.6605538  -0.90760225  0.04810327 -0.23133177\n",
      "  0.4349119  -0.9471178   0.7561215   0.34352612 -1.5087458  -1.1183245\n",
      " -1.0676178   0.7225637   0.8051744   0.35742554 -0.9542132   1.8446031\n",
      " -0.25628132  1.2432138  -0.00916294 -0.51747525  1.1437464  -0.44891745\n",
      "  0.48002917  0.93963975 -1.4707662  -0.33093855  0.5566041   2.3152056\n",
      "  0.24151711 -0.14881217 -0.99755234  0.9770978   0.34272733  0.66378796\n",
      "  0.5329299  -0.2581079  -0.29514048 -0.00460723 -0.34505126 -0.5345483\n",
      " -0.25054297 -0.5384343  -0.20159149  0.59131503 -1.0561708   1.2120246\n",
      "  0.23230839 -0.07382885  0.12464082 -0.8657727  -0.36721247 -1.0478874\n",
      " -0.07966354 -0.73136973  2.1425116  -0.53231084  1.2526859   0.8762438\n",
      "  0.77384245 -0.56461835  0.2269623   2.2992806   0.2594213   0.26163164\n",
      " -0.6668351   1.5227838  -0.27316517 -0.9813372  -0.6717459  -0.96116793\n",
      " -0.20745163 -0.38279986 -1.1999817   0.30212215  0.43181574  0.59016573\n",
      "  0.627894   -0.18839678  0.9601211  -1.1786805  -1.0961396  -0.42570347\n",
      "  1.2087824  -1.4835622  -0.9856495   0.6583102   0.13887021 -0.12759632]\n",
      "Democratic --> True\n",
      "Democratic --> [ 1.16393    -0.7373667  -0.12721995 -0.26474428  1.0685688  -2.1365497\n",
      " -0.1452714   0.69992775  1.2306393  -0.50363666  0.27300605 -0.2168218\n",
      " -1.4408994   0.18775436 -0.3493125  -0.5050104   0.59955996 -0.7070938\n",
      " -0.8937867   0.00314865 -0.16281213 -1.2927536   0.63544476  0.30532044\n",
      "  0.93988454 -0.37014797  0.73369503  0.64694715 -1.0730343   0.07155156\n",
      "  0.7866271  -0.26746708  0.32622194 -0.602358   -0.5703755   0.4902457\n",
      "  0.91115654  1.1331177   1.0699058  -1.4653682  -0.21920368 -0.67221534\n",
      " -0.06174012 -0.9328804   1.1315334   0.13234651  1.2698618  -1.6438853\n",
      "  1.2603446  -0.31818524 -0.40260363  0.07549208 -0.5706021   0.33706588\n",
      " -0.8095083  -0.24788046  1.2793661   1.191716   -0.1672183  -0.6643614\n",
      " -0.39362735 -0.38010922 -0.01007032  0.9572312  -1.3957746   0.41395682\n",
      "  0.44864148  0.4760844  -1.0055237  -0.11612761  1.3724661   1.3239841\n",
      "  1.0910213  -0.33404517 -0.28798425  1.0310189  -1.0480624   0.67923486\n",
      " -1.1571772   0.32932472 -0.7574615  -1.6617278   0.15411462  1.7712977\n",
      "  0.3038368  -0.07363603  0.67256343 -0.76740474  0.09512331  0.38121152\n",
      "  0.660351   -0.47422123 -0.8723836  -1.5818964   0.4723851  -0.4576623 ]\n",
      "Party --> True\n",
      "Party --> [ 2.4990074e-02 -3.3480412e-01  6.0436630e-01  3.2785416e-02\n",
      "  1.7386627e+00 -2.4521032e-01 -8.1642330e-01  8.6468384e-02\n",
      "  1.1226591e+00 -3.8149530e-01  5.9434754e-01  2.5163591e-04\n",
      " -5.0912881e-01  2.6003033e-01 -5.6510824e-01 -9.1517389e-01\n",
      " -5.4835445e-01 -7.1537599e-02 -3.0056903e-01  3.0529833e-01\n",
      "  5.2399570e-01 -1.3734984e-01 -1.7781901e-01  8.1709474e-03\n",
      "  2.0431283e-01 -1.0250862e+00  4.3204600e-01  1.7281058e-01\n",
      " -2.6020736e-01 -3.2721993e-01  4.6347684e-01 -5.7465434e-01\n",
      " -5.5614799e-01 -1.3657258e+00  6.3073099e-02  3.6969143e-01\n",
      "  8.9515597e-01  2.1569166e-01 -7.4552506e-02 -1.2327648e+00\n",
      " -6.9863445e-01 -1.1497076e+00 -1.0902020e+00  3.5183042e-01\n",
      "  1.9909872e+00 -4.5912430e-01  2.7596641e+00 -9.2746866e-01\n",
      "  7.7447355e-01 -2.6974866e-01 -6.4514232e-01 -2.9929382e-01\n",
      " -7.3617053e-01 -5.4688036e-01  4.1975677e-02  5.9590453e-01\n",
      "  1.3670514e+00  6.8256289e-02 -9.1500616e-01 -4.3047792e-01\n",
      " -7.9177076e-01  4.5891404e-02  1.2132515e+00  7.3400855e-02\n",
      " -9.1031778e-01 -1.1990559e-01  1.1138883e+00  1.3399036e-01\n",
      " -1.0973351e+00 -1.0160452e+00  3.7938416e-01  4.5084375e-01\n",
      "  1.0621303e+00 -4.6425664e-01 -8.9832735e-01  1.2783356e+00\n",
      " -7.0908028e-01  1.1420286e+00 -8.7841189e-01  7.3802143e-01\n",
      " -1.6486332e-01 -9.1586393e-01  2.4553302e-01 -2.2118092e-02\n",
      "  1.2585180e+00 -4.4121373e-01  1.0071478e-01 -1.4511445e-01\n",
      "  7.0849460e-01 -5.3952074e-01 -1.5830064e-01 -4.3690592e-01\n",
      "  2.5852033e-01  9.9256769e-02  3.8960752e-01  7.0548391e-01]\n",
      "nominee --> True\n",
      "nominee --> [ 0.31536576  0.64493746  0.19441599  0.5489425  -0.01837125 -0.2382106\n",
      "  0.6898092  -0.19444649  0.58467746 -0.15921116  0.20344292 -0.7612686\n",
      "  2.3413196  -0.24786445  1.899282   -0.3586675  -1.0931184  -0.8558193\n",
      " -1.1071011  -0.14566794  0.17974073 -0.13851237 -0.40876433  1.2419146\n",
      " -0.5210415  -0.3513248   0.18245715 -0.16855481  0.803282   -0.65449095\n",
      "  0.56055355  0.6733866  -1.1102648   0.01940563 -0.15754771 -0.87271523\n",
      " -0.46252662 -0.41139665 -0.10201278 -1.2206604  -0.1712173   0.02216551\n",
      " -1.0667628  -0.0122159  -0.31444278  0.2866904   0.95947903 -0.5991052\n",
      "  0.02753216 -0.27922285 -0.419312    0.20621821 -0.7642229   0.25545684\n",
      "  0.4840611   0.4150834   1.7227741  -0.8383528  -0.14867303  0.14872287\n",
      " -0.60176086 -1.6647036  -0.06886071 -0.10621715 -0.7353537  -0.6651931\n",
      " -0.25015154  0.5400802   0.23463479 -0.89406717  0.32210508 -0.30531397\n",
      " -0.45055896 -0.12363219 -0.00875318  0.6256476  -0.01014441 -0.05558017\n",
      "  0.2348535   2.2739902   0.3480636  -0.49632    -0.1253709   1.0331459\n",
      "  0.10249791  0.3026644   1.0974029   0.22169596  0.9107495  -0.9489601\n",
      " -0.02819589  0.00719608 -0.35635987  0.8158413   0.9118264  -0.3013915 ]\n",
      "Joe --> True\n",
      "Joe --> [ 1.3411139  -0.06359863 -0.23461422  0.3897702   1.100353   -0.9890489\n",
      " -0.4047866   0.5617913   0.8010275   0.6909731  -0.2923571  -1.482011\n",
      " -0.61756563 -0.15848708 -0.90576464 -0.02636017 -0.5067288  -0.7142717\n",
      " -2.212582   -0.10438491 -0.61743885 -0.14674616  0.28346473  0.07470064\n",
      "  0.17930976  0.42332298  0.3320393   1.3051846  -0.12545393 -0.8133713\n",
      "  2.3483179  -0.24201694 -0.4182657   0.44113442  0.7257816  -0.7634452\n",
      "  0.2081068   1.1380227  -0.15809327 -1.0295857  -0.72175777 -1.0183469\n",
      "  0.47897658 -0.4163325   0.40958375  0.19063124  1.3547333  -0.98491085\n",
      "  0.45210585  1.692587   -0.5490847  -1.2424997   0.42308977  0.3105482\n",
      "  0.4446613  -0.6816758   1.6608909   1.4518223  -1.0965731  -0.4702198\n",
      " -1.0457715   1.0895147  -0.22049212 -0.55484694 -0.53085524 -0.01057947\n",
      " -0.06325217  0.7938776  -0.97082543 -0.7853757   0.2579463   0.71951735\n",
      " -1.269604    0.1297226  -0.38869795  1.2157755  -0.8482518  -1.0588052\n",
      " -0.7117665  -0.7740578  -0.38959134  0.05061936 -0.826812    1.8704123\n",
      "  0.57901764  0.22050682  1.5786858  -0.17034471  1.2720712  -0.39510897\n",
      "  0.00470823  0.8775549  -0.78218746 -0.76625586 -0.30761817 -0.61541885]\n",
      "Biden --> True\n",
      "Biden --> [-0.15933295  0.14826614 -0.25424165  0.56331944  0.54817694  0.2438677\n",
      "  0.00535187 -0.47829562  0.47952694 -0.49865764  0.8607681  -0.56724036\n",
      "  0.5152509  -0.06531984  0.22513847  0.653311   -0.32406047 -1.297318\n",
      " -1.5148216  -0.09242563 -0.9674706  -0.38201421 -0.9304668   0.24013466\n",
      " -1.2244489   1.4497204   1.0187777  -0.3432239   0.08078799 -0.346443\n",
      "  1.0307637  -1.0189859  -0.53341955 -1.2680523  -0.95081395 -0.16021626\n",
      "  0.36641213  0.3820192   0.06577636 -0.3388942  -0.59802055 -0.69383144\n",
      "  0.3372152   0.16373661  1.5228617  -0.81321573  0.6462622  -0.96797156\n",
      "  0.58682823  0.73783934 -0.7113697   0.77620625 -0.43680775  0.4624956\n",
      "  1.5131488   0.39206943  2.507136   -0.3670138  -0.28825694  0.5593981\n",
      " -1.1285535  -0.63510764  0.3178611   1.5667081  -0.29369977  1.8643717\n",
      " -0.38653648  0.06880653 -0.9310072  -0.1655317  -0.32369292 -0.49435747\n",
      " -0.55080354 -0.30219486  0.07697019 -0.18703052 -0.5570591  -0.44245833\n",
      "  0.05128467  0.65165687 -0.0726154  -0.65157104  0.40779036  0.93631697\n",
      "  3.0782309  -1.8076584   0.07377005  1.447144    0.8143147  -1.0491812\n",
      " -0.7017231   0.6348118  -0.36052352  0.18732789 -0.67326903  1.4499524 ]\n"
     ]
    }
   ],
   "source": [
    "text = \"The Republican president is being challenged by Democratic Party nominee Joe Biden\"\n",
    "doc = data(text)\n",
    "for token in doc:\n",
    "    print(token, '-->', token.has_vector)\n",
    "    print(token, '-->', token.vector)"
   ]
  },
  {
   "cell_type": "code",
   "execution_count": 45,
   "metadata": {},
   "outputs": [
    {
     "name": "stdout",
     "output_type": "stream",
     "text": [
      "0.6882842786072352\n",
      "0.13668026462588811\n"
     ]
    },
    {
     "name": "stderr",
     "output_type": "stream",
     "text": [
      "<ipython-input-45-5d01363f07dd>:8: UserWarning: [W007] The model you're using has no word vectors loaded, so the result of the Doc.similarity method will be based on the tagger, parser and NER, which may not give useful similarity judgements. This may happen if you're using one of the small models, e.g. `en_core_web_sm`, which don't ship with word vectors and only use context-sensitive tensors. You can always add your own word vectors, or use one of the larger models instead if available.\n",
      "  print(doc.similarity(doc1))\n",
      "<ipython-input-45-5d01363f07dd>:9: UserWarning: [W007] The model you're using has no word vectors loaded, so the result of the Doc.similarity method will be based on the tagger, parser and NER, which may not give useful similarity judgements. This may happen if you're using one of the small models, e.g. `en_core_web_sm`, which don't ship with word vectors and only use context-sensitive tensors. You can always add your own word vectors, or use one of the larger models instead if available.\n",
      "  print(doc1.similarity(doc2))\n"
     ]
    }
   ],
   "source": [
    "text='excellent'\n",
    "text1='good'\n",
    "text2 = 'men'\n",
    "doc = data(text)\n",
    "doc1 = data(text1)\n",
    "doc2 = data(text2)\n",
    "\n",
    "print(doc.similarity(doc1))\n",
    "print(doc1.similarity(doc2))"
   ]
  },
  {
   "cell_type": "code",
   "execution_count": 47,
   "metadata": {},
   "outputs": [
    {
     "name": "stdout",
     "output_type": "stream",
     "text": [
      "lion lion ---> 1.0\n",
      "lion bear ---> 0.7765069007873535\n",
      "lion cow ---> 0.7017703652381897\n",
      "lion apple ---> 0.7501324415206909\n",
      "lion mango ---> 0.6112579107284546\n",
      "lion spinach ---> 0.5529130101203918\n",
      "bear lion ---> 0.7765069007873535\n",
      "bear bear ---> 1.0\n",
      "bear cow ---> 0.7069260478019714\n",
      "bear apple ---> 0.7736458778381348\n",
      "bear mango ---> 0.6887632012367249\n",
      "bear spinach ---> 0.522315263748169\n",
      "cow lion ---> 0.7017703652381897\n",
      "cow bear ---> 0.7069260478019714\n",
      "cow cow ---> 1.0\n",
      "cow apple ---> 0.6594050526618958\n",
      "cow mango ---> 0.6920447945594788\n",
      "cow spinach ---> 0.5688128471374512\n",
      "apple lion ---> 0.7501324415206909\n",
      "apple bear ---> 0.7736458778381348\n",
      "apple cow ---> 0.6594050526618958\n",
      "apple apple ---> 1.0\n",
      "apple mango ---> 0.7498596906661987\n",
      "apple spinach ---> 0.5072267651557922\n",
      "mango lion ---> 0.6112579107284546\n",
      "mango bear ---> 0.6887632012367249\n",
      "mango cow ---> 0.6920447945594788\n",
      "mango apple ---> 0.7498596906661987\n",
      "mango mango ---> 1.0\n",
      "mango spinach ---> 0.46750155091285706\n",
      "spinach lion ---> 0.5529130101203918\n",
      "spinach bear ---> 0.522315263748169\n",
      "spinach cow ---> 0.5688128471374512\n",
      "spinach apple ---> 0.5072267651557922\n",
      "spinach mango ---> 0.46750155091285706\n",
      "spinach spinach ---> 1.0\n"
     ]
    },
    {
     "name": "stderr",
     "output_type": "stream",
     "text": [
      "<ipython-input-47-4c903c1049f0>:4: UserWarning: [W007] The model you're using has no word vectors loaded, so the result of the Token.similarity method will be based on the tagger, parser and NER, which may not give useful similarity judgements. This may happen if you're using one of the small models, e.g. `en_core_web_sm`, which don't ship with word vectors and only use context-sensitive tensors. You can always add your own word vectors, or use one of the larger models instead if available.\n",
      "  print(word, in_word, '--->', word.similarity(in_word))\n"
     ]
    }
   ],
   "source": [
    "text = 'lion bear cow apple mango spinach'\n",
    "for word in data(text):\n",
    "    for in_word in data(text):\n",
    "        print(word, in_word, '--->', word.similarity(in_word))"
   ]
  },
  {
   "cell_type": "code",
   "execution_count": null,
   "metadata": {},
   "outputs": [],
   "source": []
  },
  {
   "cell_type": "code",
   "execution_count": null,
   "metadata": {},
   "outputs": [],
   "source": []
  },
  {
   "cell_type": "code",
   "execution_count": null,
   "metadata": {},
   "outputs": [],
   "source": []
  },
  {
   "cell_type": "code",
   "execution_count": null,
   "metadata": {},
   "outputs": [],
   "source": []
  },
  {
   "cell_type": "code",
   "execution_count": null,
   "metadata": {},
   "outputs": [],
   "source": []
  }
 ],
 "metadata": {
  "kernelspec": {
   "display_name": "Python 3",
   "language": "python",
   "name": "python3"
  },
  "language_info": {
   "codemirror_mode": {
    "name": "ipython",
    "version": 3
   },
   "file_extension": ".py",
   "mimetype": "text/x-python",
   "name": "python",
   "nbconvert_exporter": "python",
   "pygments_lexer": "ipython3",
   "version": "3.8.5"
  }
 },
 "nbformat": 4,
 "nbformat_minor": 4
}
