{
 "cells": [
  {
   "cell_type": "code",
   "execution_count": 1,
   "metadata": {},
   "outputs": [
    {
     "name": "stdout",
     "output_type": "stream",
     "text": [
      "Collecting textblob\n",
      "  Downloading textblob-0.17.1-py2.py3-none-any.whl (636 kB)\n",
      "Requirement already satisfied: nltk>=3.1; python_version >= \"3\" in c:\\programdata\\anaconda3\\lib\\site-packages (from textblob) (3.5)\n",
      "Requirement already satisfied: joblib in c:\\programdata\\anaconda3\\lib\\site-packages (from nltk>=3.1; python_version >= \"3\"->textblob) (0.17.0)\n",
      "Requirement already satisfied: tqdm in c:\\programdata\\anaconda3\\lib\\site-packages (from nltk>=3.1; python_version >= \"3\"->textblob) (4.50.2)\n",
      "Requirement already satisfied: regex in c:\\programdata\\anaconda3\\lib\\site-packages (from nltk>=3.1; python_version >= \"3\"->textblob) (2020.10.15)\n",
      "Requirement already satisfied: click in c:\\programdata\\anaconda3\\lib\\site-packages (from nltk>=3.1; python_version >= \"3\"->textblob) (7.1.2)\n",
      "Installing collected packages: textblob\n",
      "Successfully installed textblob-0.17.1\n",
      "Finished.\n"
     ]
    },
    {
     "name": "stderr",
     "output_type": "stream",
     "text": [
      "[nltk_data] Downloading package brown to\n",
      "[nltk_data]     C:\\Users\\vanis\\AppData\\Roaming\\nltk_data...\n",
      "[nltk_data]   Unzipping corpora\\brown.zip.\n",
      "[nltk_data] Downloading package punkt to\n",
      "[nltk_data]     C:\\Users\\vanis\\AppData\\Roaming\\nltk_data...\n",
      "[nltk_data]   Package punkt is already up-to-date!\n",
      "[nltk_data] Downloading package wordnet to\n",
      "[nltk_data]     C:\\Users\\vanis\\AppData\\Roaming\\nltk_data...\n",
      "[nltk_data]   Package wordnet is already up-to-date!\n",
      "[nltk_data] Downloading package averaged_perceptron_tagger to\n",
      "[nltk_data]     C:\\Users\\vanis\\AppData\\Roaming\\nltk_data...\n",
      "[nltk_data]   Package averaged_perceptron_tagger is already up-to-\n",
      "[nltk_data]       date!\n",
      "[nltk_data] Downloading package conll2000 to\n",
      "[nltk_data]     C:\\Users\\vanis\\AppData\\Roaming\\nltk_data...\n",
      "[nltk_data]   Unzipping corpora\\conll2000.zip.\n",
      "[nltk_data] Downloading package movie_reviews to\n",
      "[nltk_data]     C:\\Users\\vanis\\AppData\\Roaming\\nltk_data...\n",
      "[nltk_data]   Unzipping corpora\\movie_reviews.zip.\n"
     ]
    }
   ],
   "source": [
    "!pip install textblob\n",
    "!python -m textblob.download_corpora"
   ]
  },
  {
   "cell_type": "code",
   "execution_count": 5,
   "metadata": {},
   "outputs": [
    {
     "name": "stdout",
     "output_type": "stream",
     "text": [
      "tags: [('India', 'NNP'), ('officially', 'RB'), ('the', 'DT'), ('Republic', 'NNP'), ('of', 'IN'), ('India', 'NNP'), ('is', 'VBZ'), ('a', 'DT'), ('country', 'NN'), ('in', 'IN'), ('South', 'NNP'), ('Asia', 'NNP')]\n",
      "noun_phrases:  ['india', 'india', 'asia']\n",
      "word tokenization:  ['India', 'officially', 'the', 'Republic', 'of', 'India', 'is', 'a', 'country', 'in', 'South', 'Asia']\n",
      "sentence tokenization: \n",
      " [Sentence(\"India, officially the Republic of India, is a country in South Asia.\"), Sentence(\"today is csk vs mi.\"), Sentence(\"hello world\")]\n"
     ]
    }
   ],
   "source": [
    "from textblob import TextBlob\n",
    "sent = \"India, officially the Republic of India, is a country in South Asia.\"\n",
    "\n",
    "data = TextBlob(sent)\n",
    "\n",
    "# pos tag\n",
    "print('tags:', data.tags)\n",
    "\n",
    "# noun phrases\n",
    "print('noun_phrases: ', data.noun_phrases)\n",
    "\n",
    "# word tokenization\n",
    "print('word tokenization: ', data.words)\n",
    "\n",
    "\n",
    "sent = \"India, officially the Republic of India, is a country in South Asia. today is csk vs mi. hello world\"\n",
    "\n",
    "data = TextBlob(sent)\n",
    "\n",
    "print('sentence tokenization: \\n', data.sentences)"
   ]
  },
  {
   "cell_type": "code",
   "execution_count": 8,
   "metadata": {},
   "outputs": [
    {
     "name": "stdout",
     "output_type": "stream",
     "text": [
      "plural form:  Republics\n",
      "singular form:  world\n"
     ]
    }
   ],
   "source": [
    "# singular\n",
    "print('plural form: ', data.words[3].pluralize())\n",
    "print('singular form: ', data.words[-1].singularize())"
   ]
  },
  {
   "cell_type": "code",
   "execution_count": 12,
   "metadata": {},
   "outputs": [
    {
     "name": "stdout",
     "output_type": "stream",
     "text": [
      "stemming:  histori\n",
      "Lemmatization:  running\n"
     ]
    }
   ],
   "source": [
    "# stem\n",
    "from textblob import Word\n",
    "data = Word(\"history\")\n",
    "print('stemming: ', data.stem())\n",
    "\n",
    "# lemmatization\n",
    "data = Word('running')\n",
    "print('Lemmatization: ', data.lemmatize())"
   ]
  },
  {
   "cell_type": "code",
   "execution_count": 13,
   "metadata": {},
   "outputs": [
    {
     "data": {
      "text/plain": [
       "['ellipse in which the two axes are of equal length; a plane curve generated by one point moving at a constant distance from a fixed point',\n",
       " 'an unofficial association of people or groups',\n",
       " 'something approximating the shape of a circle',\n",
       " 'movement once around a course',\n",
       " 'a road junction at which traffic streams circularly around a central island',\n",
       " 'street names for flunitrazepan',\n",
       " 'a curved section or tier of seats in a hall or theater or opera house; usually the first tier above the orchestra',\n",
       " 'any circular or rotating mechanism',\n",
       " 'travel around something',\n",
       " 'move in circles',\n",
       " 'form a circle around']"
      ]
     },
     "execution_count": 13,
     "metadata": {},
     "output_type": "execute_result"
    }
   ],
   "source": [
    "# dictionary\n",
    "Word(\"circle\").definitions"
   ]
  },
  {
   "cell_type": "code",
   "execution_count": null,
   "metadata": {},
   "outputs": [],
   "source": []
  },
  {
   "cell_type": "code",
   "execution_count": null,
   "metadata": {},
   "outputs": [],
   "source": []
  },
  {
   "cell_type": "code",
   "execution_count": null,
   "metadata": {},
   "outputs": [],
   "source": []
  }
 ],
 "metadata": {
  "kernelspec": {
   "display_name": "Python 3",
   "language": "python",
   "name": "python3"
  },
  "language_info": {
   "codemirror_mode": {
    "name": "ipython",
    "version": 3
   },
   "file_extension": ".py",
   "mimetype": "text/x-python",
   "name": "python",
   "nbconvert_exporter": "python",
   "pygments_lexer": "ipython3",
   "version": "3.8.5"
  }
 },
 "nbformat": 4,
 "nbformat_minor": 4
}
